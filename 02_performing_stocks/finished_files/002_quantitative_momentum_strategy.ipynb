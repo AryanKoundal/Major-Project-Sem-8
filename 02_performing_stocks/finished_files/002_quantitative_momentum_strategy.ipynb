{
 "cells": [
  {
   "cell_type": "markdown",
   "metadata": {},
   "source": [
    "# Quantitative Momentum Strategy\n",
    "\n",
    "\"Momentum investing\" means investing in the stocks that have increased in price the most.\n",
    "\n",
    "For this project, we're going to build an investing strategy that selects the 50 stocks with the highest price momentum. From there, we will calculate recommended trades for an equal-weight portfolio of these 50 stocks.\n",
    "\n",
    "\n",
    "## Library Imports\n",
    "\n",
    "The first thing we need to do is import the open-source software libraries that we'll be using in this tutorial."
   ]
  },
  {
   "cell_type": "code",
   "execution_count": 11,
   "metadata": {},
   "outputs": [],
   "source": [
    "import numpy as np #The Numpy numerical computing library\n",
    "import pandas as pd #The Pandas data science library\n",
    "import requests #The requests library for HTTP requests in Python\n",
    "import xlsxwriter #The XlsxWriter libarary for \n",
    "import math #The Python math module\n",
    "from scipy import stats #The SciPy stats module"
   ]
  },
  {
   "cell_type": "markdown",
   "metadata": {},
   "source": [
    "## Importing Our List of Stocks\n",
    "\n",
    "As before, we'll need to import our list of stocks and our API token before proceeding. Make sure the `.csv` file is still in your working directory and import it with the following command:"
   ]
  },
  {
   "cell_type": "code",
   "execution_count": 12,
   "metadata": {},
   "outputs": [],
   "source": [
    "stocks = pd.read_csv('sp_500_stocks.csv')\n",
    "from tokenz import IEX_CLOUD_API_TOKEN"
   ]
  },
  {
   "cell_type": "markdown",
   "metadata": {},
   "source": [
    "## Making Our First API Call\n",
    "\n",
    "It's now time to make the first version of our momentum screener!\n",
    "\n",
    "We need to get one-year price returns for each stock in the universe. Here's how."
   ]
  },
  {
   "cell_type": "code",
   "execution_count": 17,
   "metadata": {},
   "outputs": [
    {
     "data": {
      "text/plain": [
       "[{'beta': 1.0391476142440639,\n",
       "  'totalCash': 67150000000,\n",
       "  'currentDebt': 123822000000,\n",
       "  'revenue': 381623000000,\n",
       "  'grossProfit': 173966000000,\n",
       "  'totalRevenue': 381623000000,\n",
       "  'EBITDA': 129629000000,\n",
       "  'revenuePerShare': 24.89,\n",
       "  'revenuePerEmployee': 2596074.83,\n",
       "  'debtToEquity': 4.54768579669515,\n",
       "  'profitMargin': 0.2630580441954494,\n",
       "  'enterpriseValue': 2893872794960,\n",
       "  'enterpriseValueToRevenue': 7.58,\n",
       "  'priceToSales': 7.48,\n",
       "  'priceToBook': 38.5,\n",
       "  'forwardPERatio': 28.24659325127216,\n",
       "  'pegRatio': 3.0530400663553263,\n",
       "  'peHigh': 11.867282676107855,\n",
       "  'peLow': 7.976472620192518,\n",
       "  'week52highDate': '2023-12-14',\n",
       "  'week52lowDate': '2024-04-19',\n",
       "  'putCallRatio': None,\n",
       "  'companyName': 'Apple Inc',\n",
       "  'marketcap': 2856432794960,\n",
       "  'week52high': 198.57,\n",
       "  'week52low': 163.63,\n",
       "  'week52highSplitAdjustOnly': 199.62,\n",
       "  'week52highDateSplitAdjustOnly': '2023-12-14',\n",
       "  'week52lowSplitAdjustOnly': 164.08,\n",
       "  'week52lowDateSplitAdjustOnly': '2024-04-19',\n",
       "  'week52change': 0.09411002536751756,\n",
       "  'sharesOutstanding': 15334082000,\n",
       "  'float': None,\n",
       "  'avg10Volume': 62119967,\n",
       "  'avg30Volume': 65017399,\n",
       "  'day200MovingAvg': 181.39,\n",
       "  'day50MovingAvg': 172.28,\n",
       "  'employees': 164000,\n",
       "  'ttmEPS': 6.43,\n",
       "  'ttmDividendRate': 0.966204324874062,\n",
       "  'dividendYield': 0.005186838763549828,\n",
       "  'nextDividendDate': None,\n",
       "  'exDividendDate': '',\n",
       "  'nextEarningsDate': '2024-08-01',\n",
       "  'peRatio': 28.45364327725149,\n",
       "  'maxChangePercent': 72.19449901768174,\n",
       "  'year5ChangePercent': 3.1845064537723013,\n",
       "  'year2ChangePercent': 0.28901362916708195,\n",
       "  'year1ChangePercent': 0.09094018335385036,\n",
       "  'ytdChangePercent': -0.027359558980555088,\n",
       "  'month6ChangePercent': 0.01332532595261715,\n",
       "  'month3ChangePercent': 0.00943322611130859,\n",
       "  'month1ChangePercent': 0.05797508067713131,\n",
       "  'day30ChangePercent': 0.05797508067713131,\n",
       "  'day5ChangePercent': 0.027932073047850725}]"
      ]
     },
     "execution_count": 17,
     "metadata": {},
     "output_type": "execute_result"
    }
   ],
   "source": [
    "# symbol = 'AAPL'\n",
    "# api_url = f'https://sandbox.iexapis.com/stable/stock/{symbol}/stats?token={IEX_CLOUD_API_TOKEN}'\n",
    "# data = requests.get(api_url).json()\n",
    "# data\n",
    "\n",
    "symbol='aapl'\n",
    "url = f'https://api.iex.cloud/v1/data/core/advanced_stats/{symbol}?token={IEX_CLOUD_API_TOKEN}'\n",
    "outer_data = requests.get(url).json()\n",
    "outer_data"
   ]
  },
  {
   "cell_type": "markdown",
   "metadata": {},
   "source": [
    "## Parsing Our API Call\n",
    "\n",
    "This API call has all the information we need. We can parse it using the same square-bracket notation as in the first project of this course. Here is an example."
   ]
  },
  {
   "cell_type": "code",
   "execution_count": 20,
   "metadata": {},
   "outputs": [
    {
     "data": {
      "text/plain": [
       "0.09094018335385036"
      ]
     },
     "execution_count": 20,
     "metadata": {},
     "output_type": "execute_result"
    }
   ],
   "source": [
    "data = outer_data[0]\n",
    "# data\n",
    "# data['avgTotalVolume']\n",
    "data['year1ChangePercent']"
   ]
  },
  {
   "cell_type": "markdown",
   "metadata": {},
   "source": [
    "## Looping Through The Tickers in Our List of Stocks\n",
    "\n",
    "Using the same logic that we outlined above, we can pull data for all S&P 500 stocks and store their data in the DataFrame using a `for` loop."
   ]
  },
  {
   "cell_type": "code",
   "execution_count": 37,
   "metadata": {},
   "outputs": [
    {
     "name": "stderr",
     "output_type": "stream",
     "text": [
      "C:\\Users\\Aryan\\AppData\\Local\\Temp\\ipykernel_14880\\2475578383.py:12: FutureWarning: The behavior of DataFrame concatenation with empty or all-NA entries is deprecated. In a future version, this will no longer exclude empty or all-NA columns when determining the result dtypes. To retain the old behavior, exclude the relevant entries before the concat operation.\n",
      "  final_dataframe = pd.concat([final_dataframe, pd.DataFrame([new_row])], ignore_index=True)\n"
     ]
    }
   ],
   "source": [
    "my_columns = ['Ticker', 'Price', 'One-Year Price Return', 'Number of Shares to Buy']\n",
    "final_dataframe = pd.DataFrame(columns = my_columns)\n",
    "for symbol in stocks['Ticker'][:5]:\n",
    "    # print(symbol)\n",
    "    batch_api_call_url = f'https://api.iex.cloud/v1/data/core/QUOTE,ADVANCED_STATS/{symbol}?token={IEX_CLOUD_API_TOKEN}'\n",
    "    outer_data = requests.get(batch_api_call_url).json()\n",
    "    dataOne = outer_data[0]\n",
    "    dataTwo = outer_data[1]\n",
    "    # print(dataOne['latestPrice'])\n",
    "    # print(dataTwo['year1ChangePercent'])\n",
    "    new_row = pd.Series([symbol, dataOne['latestPrice'], dataTwo['year1ChangePercent'],'N/A'], index = my_columns)\n",
    "    final_dataframe = pd.concat([final_dataframe, pd.DataFrame([new_row])], ignore_index=True)"
   ]
  },
  {
   "cell_type": "code",
   "execution_count": 38,
   "metadata": {},
   "outputs": [
    {
     "data": {
      "text/html": [
       "<div>\n",
       "<style scoped>\n",
       "    .dataframe tbody tr th:only-of-type {\n",
       "        vertical-align: middle;\n",
       "    }\n",
       "\n",
       "    .dataframe tbody tr th {\n",
       "        vertical-align: top;\n",
       "    }\n",
       "\n",
       "    .dataframe thead th {\n",
       "        text-align: right;\n",
       "    }\n",
       "</style>\n",
       "<table border=\"1\" class=\"dataframe\">\n",
       "  <thead>\n",
       "    <tr style=\"text-align: right;\">\n",
       "      <th></th>\n",
       "      <th>Ticker</th>\n",
       "      <th>Price</th>\n",
       "      <th>One-Year Price Return</th>\n",
       "      <th>Number of Shares to Buy</th>\n",
       "    </tr>\n",
       "  </thead>\n",
       "  <tbody>\n",
       "    <tr>\n",
       "      <th>0</th>\n",
       "      <td>A</td>\n",
       "      <td>151.28</td>\n",
       "      <td>0.167409</td>\n",
       "      <td>N/A</td>\n",
       "    </tr>\n",
       "    <tr>\n",
       "      <th>1</th>\n",
       "      <td>AAL</td>\n",
       "      <td>15.19</td>\n",
       "      <td>0.064907</td>\n",
       "      <td>N/A</td>\n",
       "    </tr>\n",
       "    <tr>\n",
       "      <th>2</th>\n",
       "      <td>AAP</td>\n",
       "      <td>75.64</td>\n",
       "      <td>-0.377378</td>\n",
       "      <td>N/A</td>\n",
       "    </tr>\n",
       "    <tr>\n",
       "      <th>3</th>\n",
       "      <td>AAPL</td>\n",
       "      <td>187.43</td>\n",
       "      <td>0.090940</td>\n",
       "      <td>N/A</td>\n",
       "    </tr>\n",
       "    <tr>\n",
       "      <th>4</th>\n",
       "      <td>ABBV</td>\n",
       "      <td>161.59</td>\n",
       "      <td>0.140514</td>\n",
       "      <td>N/A</td>\n",
       "    </tr>\n",
       "  </tbody>\n",
       "</table>\n",
       "</div>"
      ],
      "text/plain": [
       "  Ticker   Price  One-Year Price Return Number of Shares to Buy\n",
       "0      A  151.28               0.167409                     N/A\n",
       "1    AAL   15.19               0.064907                     N/A\n",
       "2    AAP   75.64              -0.377378                     N/A\n",
       "3   AAPL  187.43               0.090940                     N/A\n",
       "4   ABBV  161.59               0.140514                     N/A"
      ]
     },
     "execution_count": 38,
     "metadata": {},
     "output_type": "execute_result"
    }
   ],
   "source": [
    "final_dataframe"
   ]
  },
  {
   "cell_type": "markdown",
   "metadata": {},
   "source": [
    "## Executing A Batch API Call & Building Our DataFrame\n",
    "\n",
    "Just like in our first project, it's now time to execute several batch API calls and add the information we need to our DataFrame.\n",
    "\n",
    "We'll start by running the following code cell, which contains some code we already built last time that we can re-use for this project. More specifically, it contains a function called `chunks` that we can use to divide our list of securities into groups of 100."
   ]
  },
  {
   "cell_type": "code",
   "execution_count": 25,
   "metadata": {},
   "outputs": [
    {
     "name": "stdout",
     "output_type": "stream",
     "text": [
      "A,AAL,AAP,AAPL,ABBV,ABC,ABMD,ABT,ACN,ADBE,ADI,ADM,ADP,ADSK,AEE,AEP,AES,AFL,AIG,AIV,AIZ,AJG,AKAM,ALB,ALGN,ALK,ALL,ALLE,ALXN,AMAT,AMCR,AMD,AME,AMGN,AMP,AMT,AMZN,ANET,ANSS,ANTM,AON,AOS,APA,APD,APH,APTV,ARE,ATO,ATVI,AVB,AVGO,AVY,AWK,AXP,AZO,BA,BAC,BAX,BBY,BDX,BEN,BF.B,BIIB,BIO,BK,BKNG,BKR,BLK,BLL,BMY,BR,BRK.B,BSX,BWA,BXP,C,CAG,CAH,CARR,CAT,CB,CBOE,CBRE,CCI,CCL,CDNS,CDW,CE,CERN,CF,CFG,CHD,CHRW,CHTR,CI,CINF,CL,CLX,CMA,CMCSA\n",
      "CME,CMG,CMI,CMS,CNC,CNP,COF,COG,COO,COP,COST,COTY,CPB,CPRT,CRM,CSCO,CSX,CTAS,CTL,CTSH,CTVA,CTXS,CVS,CVX,CXO,D,DAL,DD,DE,DFS,DG,DGX,DHI,DHR,DIS,DISCA,DISCK,DISH,DLR,DLTR,DOV,DOW,DPZ,DRE,DRI,DTE,DUK,DVA,DVN,DXC,DXCM,EA,EBAY,ECL,ED,EFX,EIX,EL,EMN,EMR,EOG,EQIX,EQR,ES,ESS,ETFC,ETN,ETR,EVRG,EW,EXC,EXPD,EXPE,EXR,F,FANG,FAST,FB,FBHS,FCX,FDX,FE,FFIV,FIS,FISV,FITB,FLIR,FLS,FLT,FMC,FOX,FOXA,FRC,FRT,FTI,FTNT,FTV,GD,GE,GILD\n",
      "GIS,GL,GLW,GM,GOOG,GOOGL,GPC,GPN,GPS,GRMN,GS,GWW,HAL,HAS,HBAN,HBI,HCA,HD,HES,HFC,HIG,HII,HLT,HOLX,HON,HPE,HPQ,HRB,HRL,HSIC,HST,HSY,HUM,HWM,IBM,ICE,IDXX,IEX,IFF,ILMN,INCY,INFO,INTC,INTU,IP,IPG,IPGP,IQV,IR,IRM,ISRG,IT,ITW,IVZ,J,JBHT,JCI,JKHY,JNJ,JNPR,JPM,K,KEY,KEYS,KHC,KIM,KLAC,KMB,KMI,KMX,KO,KR,KSS,KSU,L,LB,LDOS,LEG,LEN,LH,LHX,LIN,LKQ,LLY,LMT,LNC,LNT,LOW,LRCX,LUV,LVS,LW,LYB,LYV,MA,MAA,MAR,MAS,MCD,MCHP\n",
      "MCK,MCO,MDLZ,MDT,MET,MGM,MHK,MKC,MKTX,MLM,MMC,MMM,MNST,MO,MOS,MPC,MRK,MRO,MS,MSCI,MSFT,MSI,MTB,MTD,MU,MXIM,MYL,NBL,NCLH,NDAQ,NEE,NEM,NFLX,NI,NKE,NLOK,NLSN,NOC,NOV,NOW,NRG,NSC,NTAP,NTRS,NUE,NVDA,NVR,NWL,NWS,NWSA,O,ODFL,OKE,OMC,ORCL,ORLY,OTIS,OXY,PAYC,PAYX,PBCT,PCAR,PEAK,PEG,PEP,PFE,PFG,PG,PGR,PH,PHM,PKG,PKI,PLD,PM,PNC,PNR,PNW,PPG,PPL,PRGO,PRU,PSA,PSX,PVH,PWR,PXD,PYPL,QCOM,QRVO,RCL,RE,REG,REGN,RF,RHI,RJF,RL,RMD,ROK\n",
      "ROL,ROP,ROST,RSG,RTX,SBAC,SBUX,SCHW,SEE,SHW,SIVB,SJM,SLB,SLG,SNA,SNPS,SO,SPG,SPGI,SRE,STE,STT,STX,STZ,SWK,SWKS,SYF,SYK,SYY,T,TAP,TDG,TDY,TEL,TFC,TFX,TGT,TIF,TJX,TMO,TMUS,TPR,TROW,TRV,TSCO,TSN,TT,TTWO,TWTR,TXN,TXT,TYL,UA,UAA,UAL,UDR,UHS,ULTA,UNH,UNM,UNP,UPS,URI,USB,V,VAR,VFC,VIAC,VLO,VMC,VNO,VRSK,VRSN,VRTX,VTR,VZ,WAB,WAT,WBA,WDC,WEC,WELL,WFC,WHR,WLTW,WM,WMB,WMT,WRB,WRK,WST,WU,WY,WYNN,XEL,XLNX,XOM,XRAY,XRX,XYL\n",
      "YUM,ZBH,ZBRA,ZION,ZTS\n"
     ]
    }
   ],
   "source": [
    "# # Function sourced from \n",
    "# # https://stackoverflow.com/questions/312443/how-do-you-split-a-list-into-evenly-sized-chunks\n",
    "# def chunks(lst, n):\n",
    "#     \"\"\"Yield successive n-sized chunks from lst.\"\"\"\n",
    "#     for i in range(0, len(lst), n):\n",
    "#         yield lst[i:i + n]   \n",
    "        \n",
    "# symbol_groups = list(chunks(stocks['Ticker'], 100))\n",
    "# symbol_strings = []\n",
    "# for i in range(0, len(symbol_groups)):\n",
    "#     symbol_strings.append(','.join(symbol_groups[i]))\n",
    "#     print(symbol_strings[i])\n",
    "\n",
    "# my_columns = ['Ticker', 'Price', 'One-Year Price Return', 'Number of Shares to Buy']"
   ]
  },
  {
   "cell_type": "code",
   "execution_count": 33,
   "metadata": {},
   "outputs": [
    {
     "name": "stdout",
     "output_type": "stream",
     "text": [
      "151.28\n",
      "0.1674089383894719\n"
     ]
    }
   ],
   "source": [
    "for symbol in stocks['Ticker'][:1]:\n",
    "    # print(symbol_strings)\n",
    "    # batch_api_call_url = f'https://sandbox.iexapis.com/stable/stock/market/batch/?types=stats,quote&symbols={symbol_string}&token={IEX_CLOUD_API_TOKEN}'\n",
    "    batch_api_call_url = f'https://api.iex.cloud/v1/data/core/QUOTE,ADVANCED_STATS/{symbol}?token={IEX_CLOUD_API_TOKEN}'\n",
    "    outer_data = requests.get(batch_api_call_url).json()\n",
    "    dataOne = outer_data[0]\n",
    "    dataTwo = outer_data[1]\n",
    "    print(dataOne['latestPrice'])\n",
    "    print(dataTwo['year1ChangePercent'])"
   ]
  },
  {
   "cell_type": "markdown",
   "metadata": {},
   "source": [
    "Now we need to create a blank DataFrame and add our data to the data frame one-by-one."
   ]
  },
  {
   "cell_type": "code",
   "execution_count": 23,
   "metadata": {},
   "outputs": [
    {
     "ename": "TypeError",
     "evalue": "list indices must be integers or slices, not str",
     "output_type": "error",
     "traceback": [
      "\u001b[1;31m---------------------------------------------------------------------------\u001b[0m",
      "\u001b[1;31mTypeError\u001b[0m                                 Traceback (most recent call last)",
      "Cell \u001b[1;32mIn[23], line 10\u001b[0m\n\u001b[0;32m      7\u001b[0m     data \u001b[38;5;241m=\u001b[39m requests\u001b[38;5;241m.\u001b[39mget(batch_api_call_url)\u001b[38;5;241m.\u001b[39mjson()\n\u001b[0;32m      9\u001b[0m     \u001b[38;5;28;01mfor\u001b[39;00m symbol \u001b[38;5;129;01min\u001b[39;00m symbol_string\u001b[38;5;241m.\u001b[39msplit(\u001b[38;5;124m'\u001b[39m\u001b[38;5;124m,\u001b[39m\u001b[38;5;124m'\u001b[39m):\n\u001b[1;32m---> 10\u001b[0m         new_row \u001b[38;5;241m=\u001b[39m pd\u001b[38;5;241m.\u001b[39mSeries([symbol, \u001b[43mdata\u001b[49m\u001b[43m[\u001b[49m\u001b[43msymbol\u001b[49m\u001b[43m]\u001b[49m[\u001b[38;5;124m'\u001b[39m\u001b[38;5;124mquote\u001b[39m\u001b[38;5;124m'\u001b[39m][\u001b[38;5;124m'\u001b[39m\u001b[38;5;124mlatestPrice\u001b[39m\u001b[38;5;124m'\u001b[39m], data[symbol][\u001b[38;5;124m'\u001b[39m\u001b[38;5;124mstats\u001b[39m\u001b[38;5;124m'\u001b[39m][\u001b[38;5;124m'\u001b[39m\u001b[38;5;124myear1ChangePercent\u001b[39m\u001b[38;5;124m'\u001b[39m],\u001b[38;5;124m'\u001b[39m\u001b[38;5;124mN/A\u001b[39m\u001b[38;5;124m'\u001b[39m], index \u001b[38;5;241m=\u001b[39m my_columns)\n\u001b[0;32m     11\u001b[0m         final_dataframe \u001b[38;5;241m=\u001b[39m pd\u001b[38;5;241m.\u001b[39mconcat([final_dataframe, pd\u001b[38;5;241m.\u001b[39mDataFrame([new_row])], ignore_index\u001b[38;5;241m=\u001b[39m\u001b[38;5;28;01mTrue\u001b[39;00m)\n\u001b[0;32m     14\u001b[0m final_dataframe\n",
      "\u001b[1;31mTypeError\u001b[0m: list indices must be integers or slices, not str"
     ]
    }
   ],
   "source": [
    "# final_dataframe = pd.DataFrame(columns = my_columns)\n",
    "\n",
    "# for symbol_string in symbol_strings:\n",
    "# #     print(symbol_strings)\n",
    "#     # batch_api_call_url = f'https://sandbox.iexapis.com/stable/stock/market/batch/?types=stats,quote&symbols={symbol_string}&token={IEX_CLOUD_API_TOKEN}'\n",
    "#     batch_api_call_url = f'https://api.iex.cloud/v1/data/core/QUOTE,ADVANCED_STATS/{symbol}?token={IEX_CLOUD_API_TOKEN}'\n",
    "#     outer_data = requests.get(batch_api_call_url).json()\n",
    "#     dataOne = outer_data[0]\n",
    "#     dataTwo = outer_data[1]\n",
    "\n",
    "#     for symbol in symbol_string.split(','):\n",
    "#         # new_row = pd.Series([symbol, data[symbol]['quote']['latestPrice'], data[symbol]['stats']['year1ChangePercent'],'N/A'], index = my_columns)\n",
    "#         new_row = pd.Series([symbol, dataOne['latestPrice'], dataTwo['year1ChangePercent'],'N/A'], index = my_columns)\n",
    "#         final_dataframe = pd.concat([final_dataframe, pd.DataFrame([new_row])], ignore_index=True)\n",
    "        \n",
    "    \n",
    "# final_dataframe"
   ]
  },
  {
   "cell_type": "markdown",
   "metadata": {},
   "source": [
    "## Removing Low-Momentum Stocks\n",
    "\n",
    "The investment strategy that we're building seeks to identify the 50 highest-momentum stocks in the S&P 500.\n",
    "\n",
    "Because of this, the next thing we need to do is remove all the stocks in our DataFrame that fall below this momentum threshold. We'll sort the DataFrame by the stocks' one-year price return, and drop all stocks outside the top 50.\n"
   ]
  },
  {
   "cell_type": "code",
   "execution_count": 39,
   "metadata": {},
   "outputs": [
    {
     "data": {
      "text/html": [
       "<div>\n",
       "<style scoped>\n",
       "    .dataframe tbody tr th:only-of-type {\n",
       "        vertical-align: middle;\n",
       "    }\n",
       "\n",
       "    .dataframe tbody tr th {\n",
       "        vertical-align: top;\n",
       "    }\n",
       "\n",
       "    .dataframe thead th {\n",
       "        text-align: right;\n",
       "    }\n",
       "</style>\n",
       "<table border=\"1\" class=\"dataframe\">\n",
       "  <thead>\n",
       "    <tr style=\"text-align: right;\">\n",
       "      <th></th>\n",
       "      <th>Ticker</th>\n",
       "      <th>Price</th>\n",
       "      <th>One-Year Price Return</th>\n",
       "      <th>Number of Shares to Buy</th>\n",
       "    </tr>\n",
       "  </thead>\n",
       "  <tbody>\n",
       "    <tr>\n",
       "      <th>0</th>\n",
       "      <td>A</td>\n",
       "      <td>151.28</td>\n",
       "      <td>0.167409</td>\n",
       "      <td>N/A</td>\n",
       "    </tr>\n",
       "    <tr>\n",
       "      <th>1</th>\n",
       "      <td>ABBV</td>\n",
       "      <td>161.59</td>\n",
       "      <td>0.140514</td>\n",
       "      <td>N/A</td>\n",
       "    </tr>\n",
       "    <tr>\n",
       "      <th>2</th>\n",
       "      <td>AAPL</td>\n",
       "      <td>187.43</td>\n",
       "      <td>0.090940</td>\n",
       "      <td>N/A</td>\n",
       "    </tr>\n",
       "  </tbody>\n",
       "</table>\n",
       "</div>"
      ],
      "text/plain": [
       "  Ticker   Price  One-Year Price Return Number of Shares to Buy\n",
       "0      A  151.28               0.167409                     N/A\n",
       "1   ABBV  161.59               0.140514                     N/A\n",
       "2   AAPL  187.43               0.090940                     N/A"
      ]
     },
     "execution_count": 39,
     "metadata": {},
     "output_type": "execute_result"
    }
   ],
   "source": [
    "final_dataframe.sort_values('One-Year Price Return', ascending = False, inplace = True)\n",
    "final_dataframe = final_dataframe[:3]\n",
    "final_dataframe.reset_index(drop = True, inplace = True)\n",
    "final_dataframe"
   ]
  },
  {
   "cell_type": "markdown",
   "metadata": {},
   "source": [
    "## Calculating the Number of Shares to Buy\n",
    "\n",
    "Just like in the last project, we now need to calculate the number of shares we need to buy. The one change we're going to make is wrapping this functionality inside a function, since we'll be using it again later in this Jupyter Notebook.\n",
    "\n",
    "Since we've already done most of the work on this, try to complete the following two code cells without watching me do it first!"
   ]
  },
  {
   "cell_type": "code",
   "execution_count": 40,
   "metadata": {},
   "outputs": [
    {
     "name": "stdout",
     "output_type": "stream",
     "text": [
      "1000\n"
     ]
    }
   ],
   "source": [
    "def portfolio_input():\n",
    "    global portfolio_size\n",
    "    portfolio_size = input(\"Enter the value of your portfolio:\")\n",
    "\n",
    "    try:\n",
    "        val = float(portfolio_size)\n",
    "    except ValueError:\n",
    "        print(\"That's not a number! \\n Try again:\")\n",
    "        portfolio_size = input(\"Enter the value of your portfolio:\")\n",
    "\n",
    "portfolio_input()\n",
    "print(portfolio_size)"
   ]
  },
  {
   "cell_type": "code",
   "execution_count": 41,
   "metadata": {},
   "outputs": [
    {
     "data": {
      "text/html": [
       "<div>\n",
       "<style scoped>\n",
       "    .dataframe tbody tr th:only-of-type {\n",
       "        vertical-align: middle;\n",
       "    }\n",
       "\n",
       "    .dataframe tbody tr th {\n",
       "        vertical-align: top;\n",
       "    }\n",
       "\n",
       "    .dataframe thead th {\n",
       "        text-align: right;\n",
       "    }\n",
       "</style>\n",
       "<table border=\"1\" class=\"dataframe\">\n",
       "  <thead>\n",
       "    <tr style=\"text-align: right;\">\n",
       "      <th></th>\n",
       "      <th>Ticker</th>\n",
       "      <th>Price</th>\n",
       "      <th>One-Year Price Return</th>\n",
       "      <th>Number of Shares to Buy</th>\n",
       "    </tr>\n",
       "  </thead>\n",
       "  <tbody>\n",
       "    <tr>\n",
       "      <th>0</th>\n",
       "      <td>A</td>\n",
       "      <td>151.28</td>\n",
       "      <td>0.167409</td>\n",
       "      <td>2</td>\n",
       "    </tr>\n",
       "    <tr>\n",
       "      <th>1</th>\n",
       "      <td>ABBV</td>\n",
       "      <td>161.59</td>\n",
       "      <td>0.140514</td>\n",
       "      <td>2</td>\n",
       "    </tr>\n",
       "    <tr>\n",
       "      <th>2</th>\n",
       "      <td>AAPL</td>\n",
       "      <td>187.43</td>\n",
       "      <td>0.090940</td>\n",
       "      <td>1</td>\n",
       "    </tr>\n",
       "  </tbody>\n",
       "</table>\n",
       "</div>"
      ],
      "text/plain": [
       "  Ticker   Price  One-Year Price Return Number of Shares to Buy\n",
       "0      A  151.28               0.167409                       2\n",
       "1   ABBV  161.59               0.140514                       2\n",
       "2   AAPL  187.43               0.090940                       1"
      ]
     },
     "execution_count": 41,
     "metadata": {},
     "output_type": "execute_result"
    }
   ],
   "source": [
    "position_size = float(portfolio_size) / len(final_dataframe.index)\n",
    "for i in range(0, len(final_dataframe['Ticker'])):\n",
    "    final_dataframe.loc[i, 'Number of Shares to Buy'] = math.floor(position_size / final_dataframe['Price'][i])\n",
    "final_dataframe"
   ]
  },
  {
   "cell_type": "markdown",
   "metadata": {},
   "source": [
    "## Building a Better (and More Realistic) Momentum Strategy\n",
    "\n",
    "Real-world quantitative investment firms differentiate between \"high quality\" and \"low quality\" momentum stocks:\n",
    "\n",
    "* High-quality momentum stocks show \"slow and steady\" outperformance over long periods of time\n",
    "* Low-quality momentum stocks might not show any momentum for a long time, and then surge upwards.\n",
    "\n",
    "The reason why high-quality momentum stocks are preferred is because low-quality momentum can often be cause by short-term news that is unlikely to be repeated in the future (such as an FDA approval for a biotechnology company).\n",
    "\n",
    "To identify high-quality momentum, we're going to build a strategy that selects stocks from the highest percentiles of: \n",
    "\n",
    "* 1-month price returns\n",
    "* 3-month price returns\n",
    "* 6-month price returns\n",
    "* 1-year price returns\n",
    "\n",
    "Let's start by building our DataFrame. You'll notice that I use the abbreviation `hqm` often. It stands for `high-quality momentum`."
   ]
  },
  {
   "cell_type": "code",
   "execution_count": 70,
   "metadata": {},
   "outputs": [
    {
     "name": "stderr",
     "output_type": "stream",
     "text": [
      "C:\\Users\\Aryan\\AppData\\Local\\Temp\\ipykernel_14880\\1429134098.py:64: FutureWarning: The behavior of DataFrame concatenation with empty or all-NA entries is deprecated. In a future version, this will no longer exclude empty or all-NA columns when determining the result dtypes. To retain the old behavior, exclude the relevant entries before the concat operation.\n",
      "  hqm_dataframe = pd.concat([hqm_dataframe, pd.DataFrame([new_row])], ignore_index=True)\n"
     ]
    }
   ],
   "source": [
    "# hqm_columns = [\n",
    "#                 'Ticker', \n",
    "#                 'Price', \n",
    "#                 'Number of Shares to Buy', \n",
    "#                 'One-Year Price Return', \n",
    "#                 'One-Year Return Percentile',\n",
    "#                 'Six-Month Price Return',\n",
    "#                 'Six-Month Return Percentile',\n",
    "#                 'Three-Month Price Return',\n",
    "#                 'Three-Month Return Percentile',\n",
    "#                 'One-Month Price Return',\n",
    "#                 'One-Month Return Percentile',\n",
    "#                 'HQM Score'\n",
    "#                 ]\n",
    "\n",
    "# hqm_dataframe = pd.DataFrame(columns = hqm_columns)\n",
    "\n",
    "# for symbol_string in symbol_strings:\n",
    "# #     print(symbol_strings)\n",
    "#     batch_api_call_url = f'https://sandbox.iexapis.com/stable/stock/market/batch/?types=stats,quote&symbols={symbol_string}&token={IEX_CLOUD_API_TOKEN}'\n",
    "#     data = requests.get(batch_api_call_url).json()\n",
    "#     for symbol in symbol_string.split(','):\n",
    "#         hqm_dataframe = hqm_dataframe.append(\n",
    "#                                         pd.Series([symbol, \n",
    "#                                                    data[symbol]['quote']['latestPrice'],\n",
    "#                                                    'N/A',\n",
    "#                                                    data[symbol]['stats']['year1ChangePercent'],\n",
    "#                                                    'N/A',\n",
    "#                                                    data[symbol]['stats']['month6ChangePercent'],\n",
    "#                                                    'N/A',\n",
    "#                                                    data[symbol]['stats']['month3ChangePercent'],\n",
    "#                                                    'N/A',\n",
    "#                                                    data[symbol]['stats']['month1ChangePercent'],\n",
    "#                                                    'N/A',\n",
    "#                                                    'N/A'\n",
    "#                                                    ], \n",
    "#                                                   index = hqm_columns), \n",
    "#                                         ignore_index = True)\n",
    "        \n",
    "# hqm_dataframe.columns\n",
    "\n",
    "hqm_columns = [\n",
    "                'Ticker', \n",
    "                'Price', \n",
    "                'Number of Shares to Buy', \n",
    "                'One-Year Price Return', \n",
    "                'One-Year Return Percentile',\n",
    "                'Six-Month Price Return',\n",
    "                'Six-Month Return Percentile',\n",
    "                'Three-Month Price Return',\n",
    "                'Three-Month Return Percentile',\n",
    "                'One-Month Price Return',\n",
    "                'One-Month Return Percentile',\n",
    "                'HQM Score'\n",
    "                ]\n",
    "hqm_dataframe = pd.DataFrame(columns = hqm_columns)\n",
    "for symbol in stocks['Ticker'][:5]:\n",
    "    # print(symbol)\n",
    "    batch_api_call_url = f'https://api.iex.cloud/v1/data/core/QUOTE,ADVANCED_STATS/{symbol}?token={IEX_CLOUD_API_TOKEN}'\n",
    "    outer_data = requests.get(batch_api_call_url).json()\n",
    "    dataOne = outer_data[0]\n",
    "    dataTwo = outer_data[1]\n",
    "    new_row = pd.Series([symbol, dataOne['latestPrice'], 'N/A', dataTwo['year1ChangePercent'], 'N/A', dataTwo['month6ChangePercent'],'N/A',dataTwo['month3ChangePercent'], 'N/A',dataTwo['month1ChangePercent'],'N/A','N/A'], index = hqm_columns)\n",
    "    hqm_dataframe = pd.concat([hqm_dataframe, pd.DataFrame([new_row])], ignore_index=True)"
   ]
  },
  {
   "cell_type": "code",
   "execution_count": 71,
   "metadata": {},
   "outputs": [
    {
     "data": {
      "text/html": [
       "<div>\n",
       "<style scoped>\n",
       "    .dataframe tbody tr th:only-of-type {\n",
       "        vertical-align: middle;\n",
       "    }\n",
       "\n",
       "    .dataframe tbody tr th {\n",
       "        vertical-align: top;\n",
       "    }\n",
       "\n",
       "    .dataframe thead th {\n",
       "        text-align: right;\n",
       "    }\n",
       "</style>\n",
       "<table border=\"1\" class=\"dataframe\">\n",
       "  <thead>\n",
       "    <tr style=\"text-align: right;\">\n",
       "      <th></th>\n",
       "      <th>Ticker</th>\n",
       "      <th>Price</th>\n",
       "      <th>Number of Shares to Buy</th>\n",
       "      <th>One-Year Price Return</th>\n",
       "      <th>One-Year Return Percentile</th>\n",
       "      <th>Six-Month Price Return</th>\n",
       "      <th>Six-Month Return Percentile</th>\n",
       "      <th>Three-Month Price Return</th>\n",
       "      <th>Three-Month Return Percentile</th>\n",
       "      <th>One-Month Price Return</th>\n",
       "      <th>One-Month Return Percentile</th>\n",
       "      <th>HQM Score</th>\n",
       "    </tr>\n",
       "  </thead>\n",
       "  <tbody>\n",
       "    <tr>\n",
       "      <th>0</th>\n",
       "      <td>A</td>\n",
       "      <td>151.28</td>\n",
       "      <td>N/A</td>\n",
       "      <td>0.167409</td>\n",
       "      <td>N/A</td>\n",
       "      <td>0.379586</td>\n",
       "      <td>N/A</td>\n",
       "      <td>0.140568</td>\n",
       "      <td>N/A</td>\n",
       "      <td>0.049954</td>\n",
       "      <td>N/A</td>\n",
       "      <td>N/A</td>\n",
       "    </tr>\n",
       "    <tr>\n",
       "      <th>1</th>\n",
       "      <td>AAL</td>\n",
       "      <td>15.19</td>\n",
       "      <td>N/A</td>\n",
       "      <td>0.064907</td>\n",
       "      <td>N/A</td>\n",
       "      <td>0.267402</td>\n",
       "      <td>N/A</td>\n",
       "      <td>0.021903</td>\n",
       "      <td>N/A</td>\n",
       "      <td>0.135361</td>\n",
       "      <td>N/A</td>\n",
       "      <td>N/A</td>\n",
       "    </tr>\n",
       "    <tr>\n",
       "      <th>2</th>\n",
       "      <td>AAP</td>\n",
       "      <td>75.64</td>\n",
       "      <td>N/A</td>\n",
       "      <td>-0.377378</td>\n",
       "      <td>N/A</td>\n",
       "      <td>0.355975</td>\n",
       "      <td>N/A</td>\n",
       "      <td>0.172470</td>\n",
       "      <td>N/A</td>\n",
       "      <td>0.068085</td>\n",
       "      <td>N/A</td>\n",
       "      <td>N/A</td>\n",
       "    </tr>\n",
       "    <tr>\n",
       "      <th>3</th>\n",
       "      <td>AAPL</td>\n",
       "      <td>187.43</td>\n",
       "      <td>N/A</td>\n",
       "      <td>0.090940</td>\n",
       "      <td>N/A</td>\n",
       "      <td>0.013325</td>\n",
       "      <td>N/A</td>\n",
       "      <td>0.009433</td>\n",
       "      <td>N/A</td>\n",
       "      <td>0.057975</td>\n",
       "      <td>N/A</td>\n",
       "      <td>N/A</td>\n",
       "    </tr>\n",
       "    <tr>\n",
       "      <th>4</th>\n",
       "      <td>ABBV</td>\n",
       "      <td>161.59</td>\n",
       "      <td>N/A</td>\n",
       "      <td>0.140514</td>\n",
       "      <td>N/A</td>\n",
       "      <td>0.185383</td>\n",
       "      <td>N/A</td>\n",
       "      <td>-0.060614</td>\n",
       "      <td>N/A</td>\n",
       "      <td>-0.006162</td>\n",
       "      <td>N/A</td>\n",
       "      <td>N/A</td>\n",
       "    </tr>\n",
       "  </tbody>\n",
       "</table>\n",
       "</div>"
      ],
      "text/plain": [
       "  Ticker   Price Number of Shares to Buy  One-Year Price Return  \\\n",
       "0      A  151.28                     N/A               0.167409   \n",
       "1    AAL   15.19                     N/A               0.064907   \n",
       "2    AAP   75.64                     N/A              -0.377378   \n",
       "3   AAPL  187.43                     N/A               0.090940   \n",
       "4   ABBV  161.59                     N/A               0.140514   \n",
       "\n",
       "  One-Year Return Percentile  Six-Month Price Return  \\\n",
       "0                        N/A                0.379586   \n",
       "1                        N/A                0.267402   \n",
       "2                        N/A                0.355975   \n",
       "3                        N/A                0.013325   \n",
       "4                        N/A                0.185383   \n",
       "\n",
       "  Six-Month Return Percentile  Three-Month Price Return  \\\n",
       "0                         N/A                  0.140568   \n",
       "1                         N/A                  0.021903   \n",
       "2                         N/A                  0.172470   \n",
       "3                         N/A                  0.009433   \n",
       "4                         N/A                 -0.060614   \n",
       "\n",
       "  Three-Month Return Percentile  One-Month Price Return  \\\n",
       "0                           N/A                0.049954   \n",
       "1                           N/A                0.135361   \n",
       "2                           N/A                0.068085   \n",
       "3                           N/A                0.057975   \n",
       "4                           N/A               -0.006162   \n",
       "\n",
       "  One-Month Return Percentile HQM Score  \n",
       "0                         N/A       N/A  \n",
       "1                         N/A       N/A  \n",
       "2                         N/A       N/A  \n",
       "3                         N/A       N/A  \n",
       "4                         N/A       N/A  "
      ]
     },
     "execution_count": 71,
     "metadata": {},
     "output_type": "execute_result"
    }
   ],
   "source": [
    "hqm_dataframe"
   ]
  },
  {
   "cell_type": "markdown",
   "metadata": {},
   "source": [
    "## Calculating Momentum Percentiles\n",
    "\n",
    "We now need to calculate momentum percentile scores for every stock in the universe. More specifically, we need to calculate percentile scores for the following metrics for every stock:\n",
    "\n",
    "* `One-Year Price Return`\n",
    "* `Six-Month Price Return`\n",
    "* `Three-Month Price Return`\n",
    "* `One-Month Price Return`\n",
    "\n",
    "Here's how we'll do this:"
   ]
  },
  {
   "cell_type": "code",
   "execution_count": 72,
   "metadata": {},
   "outputs": [
    {
     "name": "stdout",
     "output_type": "stream",
     "text": [
      "0    1.0\n",
      "1    0.4\n",
      "2    0.2\n",
      "3    0.6\n",
      "4    0.8\n",
      "Name: One-Year Return Percentile, dtype: object\n",
      "0    1.0\n",
      "1    0.6\n",
      "2    0.8\n",
      "3    0.2\n",
      "4    0.4\n",
      "Name: Six-Month Return Percentile, dtype: object\n",
      "0    0.8\n",
      "1    0.6\n",
      "2    1.0\n",
      "3    0.4\n",
      "4    0.2\n",
      "Name: Three-Month Return Percentile, dtype: object\n",
      "0    0.4\n",
      "1    1.0\n",
      "2    0.8\n",
      "3    0.6\n",
      "4    0.2\n",
      "Name: One-Month Return Percentile, dtype: object\n"
     ]
    },
    {
     "data": {
      "text/html": [
       "<div>\n",
       "<style scoped>\n",
       "    .dataframe tbody tr th:only-of-type {\n",
       "        vertical-align: middle;\n",
       "    }\n",
       "\n",
       "    .dataframe tbody tr th {\n",
       "        vertical-align: top;\n",
       "    }\n",
       "\n",
       "    .dataframe thead th {\n",
       "        text-align: right;\n",
       "    }\n",
       "</style>\n",
       "<table border=\"1\" class=\"dataframe\">\n",
       "  <thead>\n",
       "    <tr style=\"text-align: right;\">\n",
       "      <th></th>\n",
       "      <th>Ticker</th>\n",
       "      <th>Price</th>\n",
       "      <th>Number of Shares to Buy</th>\n",
       "      <th>One-Year Price Return</th>\n",
       "      <th>One-Year Return Percentile</th>\n",
       "      <th>Six-Month Price Return</th>\n",
       "      <th>Six-Month Return Percentile</th>\n",
       "      <th>Three-Month Price Return</th>\n",
       "      <th>Three-Month Return Percentile</th>\n",
       "      <th>One-Month Price Return</th>\n",
       "      <th>One-Month Return Percentile</th>\n",
       "      <th>HQM Score</th>\n",
       "    </tr>\n",
       "  </thead>\n",
       "  <tbody>\n",
       "    <tr>\n",
       "      <th>0</th>\n",
       "      <td>A</td>\n",
       "      <td>151.28</td>\n",
       "      <td>N/A</td>\n",
       "      <td>0.167409</td>\n",
       "      <td>1.0</td>\n",
       "      <td>0.379586</td>\n",
       "      <td>1.0</td>\n",
       "      <td>0.140568</td>\n",
       "      <td>0.8</td>\n",
       "      <td>0.049954</td>\n",
       "      <td>0.4</td>\n",
       "      <td>N/A</td>\n",
       "    </tr>\n",
       "    <tr>\n",
       "      <th>1</th>\n",
       "      <td>AAL</td>\n",
       "      <td>15.19</td>\n",
       "      <td>N/A</td>\n",
       "      <td>0.064907</td>\n",
       "      <td>0.4</td>\n",
       "      <td>0.267402</td>\n",
       "      <td>0.6</td>\n",
       "      <td>0.021903</td>\n",
       "      <td>0.6</td>\n",
       "      <td>0.135361</td>\n",
       "      <td>1.0</td>\n",
       "      <td>N/A</td>\n",
       "    </tr>\n",
       "    <tr>\n",
       "      <th>2</th>\n",
       "      <td>AAP</td>\n",
       "      <td>75.64</td>\n",
       "      <td>N/A</td>\n",
       "      <td>-0.377378</td>\n",
       "      <td>0.2</td>\n",
       "      <td>0.355975</td>\n",
       "      <td>0.8</td>\n",
       "      <td>0.172470</td>\n",
       "      <td>1.0</td>\n",
       "      <td>0.068085</td>\n",
       "      <td>0.8</td>\n",
       "      <td>N/A</td>\n",
       "    </tr>\n",
       "    <tr>\n",
       "      <th>3</th>\n",
       "      <td>AAPL</td>\n",
       "      <td>187.43</td>\n",
       "      <td>N/A</td>\n",
       "      <td>0.090940</td>\n",
       "      <td>0.6</td>\n",
       "      <td>0.013325</td>\n",
       "      <td>0.2</td>\n",
       "      <td>0.009433</td>\n",
       "      <td>0.4</td>\n",
       "      <td>0.057975</td>\n",
       "      <td>0.6</td>\n",
       "      <td>N/A</td>\n",
       "    </tr>\n",
       "    <tr>\n",
       "      <th>4</th>\n",
       "      <td>ABBV</td>\n",
       "      <td>161.59</td>\n",
       "      <td>N/A</td>\n",
       "      <td>0.140514</td>\n",
       "      <td>0.8</td>\n",
       "      <td>0.185383</td>\n",
       "      <td>0.4</td>\n",
       "      <td>-0.060614</td>\n",
       "      <td>0.2</td>\n",
       "      <td>-0.006162</td>\n",
       "      <td>0.2</td>\n",
       "      <td>N/A</td>\n",
       "    </tr>\n",
       "  </tbody>\n",
       "</table>\n",
       "</div>"
      ],
      "text/plain": [
       "  Ticker   Price Number of Shares to Buy  One-Year Price Return  \\\n",
       "0      A  151.28                     N/A               0.167409   \n",
       "1    AAL   15.19                     N/A               0.064907   \n",
       "2    AAP   75.64                     N/A              -0.377378   \n",
       "3   AAPL  187.43                     N/A               0.090940   \n",
       "4   ABBV  161.59                     N/A               0.140514   \n",
       "\n",
       "  One-Year Return Percentile  Six-Month Price Return  \\\n",
       "0                        1.0                0.379586   \n",
       "1                        0.4                0.267402   \n",
       "2                        0.2                0.355975   \n",
       "3                        0.6                0.013325   \n",
       "4                        0.8                0.185383   \n",
       "\n",
       "  Six-Month Return Percentile  Three-Month Price Return  \\\n",
       "0                         1.0                  0.140568   \n",
       "1                         0.6                  0.021903   \n",
       "2                         0.8                  0.172470   \n",
       "3                         0.2                  0.009433   \n",
       "4                         0.4                 -0.060614   \n",
       "\n",
       "  Three-Month Return Percentile  One-Month Price Return  \\\n",
       "0                           0.8                0.049954   \n",
       "1                           0.6                0.135361   \n",
       "2                           1.0                0.068085   \n",
       "3                           0.4                0.057975   \n",
       "4                           0.2               -0.006162   \n",
       "\n",
       "  One-Month Return Percentile HQM Score  \n",
       "0                         0.4       N/A  \n",
       "1                         1.0       N/A  \n",
       "2                         0.8       N/A  \n",
       "3                         0.6       N/A  \n",
       "4                         0.2       N/A  "
      ]
     },
     "execution_count": 72,
     "metadata": {},
     "output_type": "execute_result"
    }
   ],
   "source": [
    "time_periods = [\n",
    "                'One-Year',\n",
    "                'Six-Month',\n",
    "                'Three-Month',\n",
    "                'One-Month'\n",
    "                ]\n",
    "\n",
    "for row in hqm_dataframe.index:\n",
    "    for time_period in time_periods:\n",
    "        hqm_dataframe.loc[row, f'{time_period} Return Percentile'] = stats.percentileofscore(hqm_dataframe[f'{time_period} Price Return'], hqm_dataframe.loc[row, f'{time_period} Price Return'])/100\n",
    "\n",
    "# Print each percentile score to make sure it was calculated properly\n",
    "for time_period in time_periods:\n",
    "    print(hqm_dataframe[f'{time_period} Return Percentile'])\n",
    "\n",
    "#Print the entire DataFrame    \n",
    "hqm_dataframe"
   ]
  },
  {
   "cell_type": "markdown",
   "metadata": {},
   "source": [
    "## Calculating the HQM Score\n",
    "\n",
    "We'll now calculate our `HQM Score`, which is the high-quality momentum score that we'll use to filter for stocks in this investing strategy.\n",
    "\n",
    "The `HQM Score` will be the arithmetic mean of the 4 momentum percentile scores that we calculated in the last section.\n",
    "\n",
    "To calculate arithmetic mean, we will use the `mean` function from Python's built-in `statistics` module."
   ]
  },
  {
   "cell_type": "code",
   "execution_count": 73,
   "metadata": {},
   "outputs": [],
   "source": [
    "from statistics import mean\n",
    "\n",
    "for row in hqm_dataframe.index:\n",
    "    momentum_percentiles = []\n",
    "    for time_period in time_periods:\n",
    "        momentum_percentiles.append(hqm_dataframe.loc[row, f'{time_period} Return Percentile'])\n",
    "    hqm_dataframe.loc[row, 'HQM Score'] = mean(momentum_percentiles)"
   ]
  },
  {
   "cell_type": "markdown",
   "metadata": {},
   "source": [
    "## Selecting the 50 Best Momentum Stocks\n",
    "\n",
    "As before, we can identify the 50 best momentum stocks in our universe by sorting the DataFrame on the `HQM Score` column and dropping all but the top 50 entries."
   ]
  },
  {
   "cell_type": "code",
   "execution_count": 74,
   "metadata": {},
   "outputs": [],
   "source": [
    "hqm_dataframe.sort_values(by = 'HQM Score', ascending = False)\n",
    "hqm_dataframe = hqm_dataframe[:2]"
   ]
  },
  {
   "cell_type": "markdown",
   "metadata": {},
   "source": [
    "## Calculating the Number of Shares to Buy\n",
    "\n",
    "We'll use the `portfolio_input` function that we created earlier to accept our portfolio size. Then we will use similar logic in a `for` loop to calculate the number of shares to buy for each stock in our investment universe."
   ]
  },
  {
   "cell_type": "code",
   "execution_count": 75,
   "metadata": {},
   "outputs": [],
   "source": [
    "portfolio_input()"
   ]
  },
  {
   "cell_type": "code",
   "execution_count": 76,
   "metadata": {},
   "outputs": [
    {
     "data": {
      "text/html": [
       "<div>\n",
       "<style scoped>\n",
       "    .dataframe tbody tr th:only-of-type {\n",
       "        vertical-align: middle;\n",
       "    }\n",
       "\n",
       "    .dataframe tbody tr th {\n",
       "        vertical-align: top;\n",
       "    }\n",
       "\n",
       "    .dataframe thead th {\n",
       "        text-align: right;\n",
       "    }\n",
       "</style>\n",
       "<table border=\"1\" class=\"dataframe\">\n",
       "  <thead>\n",
       "    <tr style=\"text-align: right;\">\n",
       "      <th></th>\n",
       "      <th>Ticker</th>\n",
       "      <th>Price</th>\n",
       "      <th>Number of Shares to Buy</th>\n",
       "      <th>One-Year Price Return</th>\n",
       "      <th>One-Year Return Percentile</th>\n",
       "      <th>Six-Month Price Return</th>\n",
       "      <th>Six-Month Return Percentile</th>\n",
       "      <th>Three-Month Price Return</th>\n",
       "      <th>Three-Month Return Percentile</th>\n",
       "      <th>One-Month Price Return</th>\n",
       "      <th>One-Month Return Percentile</th>\n",
       "      <th>HQM Score</th>\n",
       "    </tr>\n",
       "  </thead>\n",
       "  <tbody>\n",
       "    <tr>\n",
       "      <th>0</th>\n",
       "      <td>A</td>\n",
       "      <td>151.28</td>\n",
       "      <td>3</td>\n",
       "      <td>0.167409</td>\n",
       "      <td>1.0</td>\n",
       "      <td>0.379586</td>\n",
       "      <td>1.0</td>\n",
       "      <td>0.140568</td>\n",
       "      <td>0.8</td>\n",
       "      <td>0.049954</td>\n",
       "      <td>0.4</td>\n",
       "      <td>0.8</td>\n",
       "    </tr>\n",
       "    <tr>\n",
       "      <th>1</th>\n",
       "      <td>AAL</td>\n",
       "      <td>15.19</td>\n",
       "      <td>N/A</td>\n",
       "      <td>0.064907</td>\n",
       "      <td>0.4</td>\n",
       "      <td>0.267402</td>\n",
       "      <td>0.6</td>\n",
       "      <td>0.021903</td>\n",
       "      <td>0.6</td>\n",
       "      <td>0.135361</td>\n",
       "      <td>1.0</td>\n",
       "      <td>0.65</td>\n",
       "    </tr>\n",
       "  </tbody>\n",
       "</table>\n",
       "</div>"
      ],
      "text/plain": [
       "  Ticker   Price Number of Shares to Buy  One-Year Price Return  \\\n",
       "0      A  151.28                       3               0.167409   \n",
       "1    AAL   15.19                     N/A               0.064907   \n",
       "\n",
       "  One-Year Return Percentile  Six-Month Price Return  \\\n",
       "0                        1.0                0.379586   \n",
       "1                        0.4                0.267402   \n",
       "\n",
       "  Six-Month Return Percentile  Three-Month Price Return  \\\n",
       "0                         1.0                  0.140568   \n",
       "1                         0.6                  0.021903   \n",
       "\n",
       "  Three-Month Return Percentile  One-Month Price Return  \\\n",
       "0                           0.8                0.049954   \n",
       "1                           0.6                0.135361   \n",
       "\n",
       "  One-Month Return Percentile HQM Score  \n",
       "0                         0.4       0.8  \n",
       "1                         1.0      0.65  "
      ]
     },
     "execution_count": 76,
     "metadata": {},
     "output_type": "execute_result"
    }
   ],
   "source": [
    "position_size = float(portfolio_size) / len(hqm_dataframe.index)\n",
    "for i in range(0, len(hqm_dataframe['Ticker'])-1):\n",
    "    hqm_dataframe.loc[i, 'Number of Shares to Buy'] = math.floor(position_size / hqm_dataframe['Price'][i])\n",
    "hqm_dataframe"
   ]
  },
  {
   "cell_type": "markdown",
   "metadata": {},
   "source": [
    "## Formatting Our Excel Output\n",
    "\n",
    "We will be using the XlsxWriter library for Python to create nicely-formatted Excel files.\n",
    "\n",
    "XlsxWriter is an excellent package and offers tons of customization. However, the tradeoff for this is that the library can seem very complicated to new users. Accordingly, this section will be fairly long because I want to do a good job of explaining how XlsxWriter works."
   ]
  },
  {
   "cell_type": "code",
   "execution_count": null,
   "metadata": {},
   "outputs": [],
   "source": [
    "writer = pd.ExcelWriter('momentum_strategy.xlsx', engine='xlsxwriter')\n",
    "hqm_dataframe.to_excel(writer, sheet_name='Momentum Strategy', index = False)"
   ]
  },
  {
   "cell_type": "markdown",
   "metadata": {},
   "source": [
    "## Creating the Formats We'll Need For Our .xlsx File\n",
    "\n",
    "You'll recall from our first project that formats include colors, fonts, and also symbols like % and $. We'll need four main formats for our Excel document:\n",
    "\n",
    "* String format for tickers\n",
    "* \\$XX.XX format for stock prices\n",
    "* \\$XX,XXX format for market capitalization\n",
    "* Integer format for the number of shares to purchase\n",
    "\n",
    "Since we already built our formats in the last section of this course, I've included them below for you. Run this code cell before proceeding."
   ]
  },
  {
   "cell_type": "code",
   "execution_count": 17,
   "metadata": {},
   "outputs": [],
   "source": [
    "background_color = '#0a0a23'\n",
    "font_color = '#ffffff'\n",
    "\n",
    "string_template = writer.book.add_format(\n",
    "        {\n",
    "            'font_color': font_color,\n",
    "            'bg_color': background_color,\n",
    "            'border': 1\n",
    "        }\n",
    "    )\n",
    "\n",
    "dollar_template = writer.book.add_format(\n",
    "        {\n",
    "            'num_format':'$0.00',\n",
    "            'font_color': font_color,\n",
    "            'bg_color': background_color,\n",
    "            'border': 1\n",
    "        }\n",
    "    )\n",
    "\n",
    "integer_template = writer.book.add_format(\n",
    "        {\n",
    "            'num_format':'0',\n",
    "            'font_color': font_color,\n",
    "            'bg_color': background_color,\n",
    "            'border': 1\n",
    "        }\n",
    "    )\n",
    "\n",
    "percent_template = writer.book.add_format(\n",
    "        {\n",
    "            'num_format':'0.0%',\n",
    "            'font_color': font_color,\n",
    "            'bg_color': background_color,\n",
    "            'border': 1\n",
    "        }\n",
    "    )"
   ]
  },
  {
   "cell_type": "code",
   "execution_count": 18,
   "metadata": {},
   "outputs": [],
   "source": [
    "column_formats = { \n",
    "                    'A': ['Ticker', string_template],\n",
    "                    'B': ['Price', dollar_template],\n",
    "                    'C': ['Number of Shares to Buy', integer_template],\n",
    "                    'D': ['One-Year Price Return', percent_template],\n",
    "                    'E': ['One-Year Return Percentile', percent_template],\n",
    "                    'F': ['Six-Month Price Return', percent_template],\n",
    "                    'G': ['Six-Month Return Percentile', percent_template],\n",
    "                    'H': ['Three-Month Price Return', percent_template],\n",
    "                    'I': ['Three-Month Return Percentile', percent_template],\n",
    "                    'J': ['One-Month Price Return', percent_template],\n",
    "                    'K': ['One-Month Return Percentile', percent_template],\n",
    "                    'L': ['HQM Score', integer_template]\n",
    "                    }\n",
    "\n",
    "for column in column_formats.keys():\n",
    "    writer.sheets['Momentum Strategy'].set_column(f'{column}:{column}', 20, column_formats[column][1])\n",
    "    writer.sheets['Momentum Strategy'].write(f'{column}1', column_formats[column][0], string_template)"
   ]
  },
  {
   "cell_type": "markdown",
   "metadata": {},
   "source": [
    "## Saving Our Excel Output\n",
    "\n",
    "As before, saving our Excel output is very easy:"
   ]
  },
  {
   "cell_type": "code",
   "execution_count": 19,
   "metadata": {},
   "outputs": [],
   "source": [
    "writer.save()"
   ]
  }
 ],
 "metadata": {
  "kernelspec": {
   "display_name": "Python 3",
   "language": "python",
   "name": "python3"
  },
  "language_info": {
   "codemirror_mode": {
    "name": "ipython",
    "version": 3
   },
   "file_extension": ".py",
   "mimetype": "text/x-python",
   "name": "python",
   "nbconvert_exporter": "python",
   "pygments_lexer": "ipython3",
   "version": "3.10.2"
  }
 },
 "nbformat": 4,
 "nbformat_minor": 4
}
